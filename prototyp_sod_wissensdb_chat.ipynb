{
 "cells": [
  {
   "cell_type": "code",
   "execution_count": 2,
   "metadata": {},
   "outputs": [
    {
     "name": "stdout",
     "output_type": "stream",
     "text": [
      "h\n"
     ]
    }
   ],
   "source": [
    "print(\"h\")"
   ]
  },
  {
   "cell_type": "code",
   "execution_count": null,
   "metadata": {},
   "outputs": [],
   "source": [
    "import os\n",
    "import pdfplumber\n",
    "\n",
    "# Define the path to the subfolder\n",
    "subfolder_path = \"Datenbasis_Hackathon\"\n",
    "subfolder_path2 = \"txt_files\"\n",
    "\n",
    "# Get the list of PDF files in the subfolder\n",
    "pdf_files = [file for file in os.listdir(subfolder_path) if file.endswith(\".pdf\")]\n",
    "\n",
    "# Iterate over each PDF file\n",
    "for pdf_file in pdf_files:\n",
    "    # Create the output text file name\n",
    "    text_file = os.path.splitext(pdf_file)[0] + \".txt\"\n",
    "\n",
    "    # Open the PDF file\n",
    "    with pdfplumber.open(os.path.join(subfolder_path, pdf_file)) as pdf:\n",
    "        # Extract the text from each page\n",
    "        text = \"\"\n",
    "        for page in pdf.pages:\n",
    "            text += page.extract_text()\n",
    "\n",
    "    # Save the extracted text as a text file\n",
    "    with open(os.path.join(subfolder_path2, text_file), \"w\", encoding=\"utf-8\") as file:\n",
    "        file.write(text)\n"
   ]
  },
  {
   "cell_type": "code",
   "execution_count": null,
   "metadata": {},
   "outputs": [],
   "source": [
    "import os\n",
    "from docx import Document\n",
    "\n",
    "# Define the paths for the subfolders\n",
    "subfolder_path = 'Datenbasis_Hackathon'\n",
    "subfolder_path2 = 'txt_files'\n",
    "\n",
    "# Create the subfolder for text files if it doesn't exist\n",
    "if not os.path.exists(subfolder_path2):\n",
    "    os.makedirs(subfolder_path2)\n",
    "\n",
    "# Get the list of Word files in the subfolder\n",
    "word_files = [file for file in os.listdir(subfolder_path) if file.endswith('.docx')]\n",
    "\n",
    "# Iterate over the Word files\n",
    "for word_file in word_files:\n",
    "    # Create the file paths\n",
    "    word_file_path = os.path.join(subfolder_path, word_file)\n",
    "    text_file_path = os.path.join(subfolder_path2, os.path.splitext(word_file)[0] + '.txt')\n",
    "\n",
    "    # Open the Word file\n",
    "    doc = Document(word_file_path)\n",
    "\n",
    "    # Extract the text from the Word file\n",
    "    text = '\\n'.join([paragraph.text for paragraph in doc.paragraphs])\n",
    "\n",
    "    # Save the text as a text file\n",
    "    with open(text_file_path, 'w', encoding='utf-8') as text_file:\n",
    "        text_file.write(text)\n"
   ]
  },
  {
   "cell_type": "code",
   "execution_count": null,
   "metadata": {},
   "outputs": [],
   "source": [
    "!python commandR_sample.py"
   ]
  },
  {
   "cell_type": "code",
   "execution_count": 8,
   "metadata": {},
   "outputs": [
    {
     "name": "stdout",
     "output_type": "stream",
     "text": [
      "2024-04-20 10:52:04,388 Starting Bokeh server version 3.3.2 (running on Tornado 6.2)\n",
      "2024-04-20 10:52:04,389 User authentication hooks NOT provided (default user enabled)\n",
      "2024-04-20 10:52:04,431 Bokeh app running at: http://localhost:5006/app\n",
      "2024-04-20 10:52:04,431 Starting Bokeh server with process id: 1854434\n",
      "/cfs/earth/scratch/stdg/.conda/envs/mixtralflash/lib/python3.10/site-packages/transformers/utils/generic.py:485: UserWarning: torch.utils._pytree._register_pytree_node is deprecated. Please use torch.utils._pytree.register_pytree_node instead.\n",
      "  _torch_pytree._register_pytree_node(\n",
      "/cfs/earth/scratch/stdg/.conda/envs/mixtralflash/lib/python3.10/site-packages/transformers/utils/generic.py:342: UserWarning: torch.utils._pytree._register_pytree_node is deprecated. Please use torch.utils._pytree.register_pytree_node instead.\n",
      "  _torch_pytree._register_pytree_node(\n",
      "/cfs/earth/scratch/stdg/.conda/envs/mixtralflash/lib/python3.10/site-packages/transformers/utils/generic.py:342: UserWarning: torch.utils._pytree._register_pytree_node is deprecated. Please use torch.utils._pytree.register_pytree_node instead.\n",
      "  _torch_pytree._register_pytree_node(\n",
      "The `load_in_4bit` and `load_in_8bit` arguments are deprecated and will be removed in the future versions. Please, pass a `BitsAndBytesConfig` object in `quantization_config` argument instead.\n",
      "`low_cpu_mem_usage` was None, now set to True since model is quantized.\n",
      "Loading checkpoint shards:   0%|                         | 0/59 [00:00<?, ?it/s]^C\n"
     ]
    }
   ],
   "source": [
    "\n",
    "!panel serve app.py"
   ]
  },
  {
   "cell_type": "code",
   "execution_count": 7,
   "metadata": {},
   "outputs": [
    {
     "name": "stdout",
     "output_type": "stream",
     "text": [
      "/cfs/earth/scratch/stdg/.conda/envs/mixtralflash/lib/python3.10/site-packages/transformers/utils/generic.py:485: UserWarning: torch.utils._pytree._register_pytree_node is deprecated. Please use torch.utils._pytree.register_pytree_node instead.\n",
      "  _torch_pytree._register_pytree_node(\n",
      "/cfs/earth/scratch/stdg/.conda/envs/mixtralflash/lib/python3.10/site-packages/transformers/utils/generic.py:342: UserWarning: torch.utils._pytree._register_pytree_node is deprecated. Please use torch.utils._pytree.register_pytree_node instead.\n",
      "  _torch_pytree._register_pytree_node(\n",
      "/cfs/earth/scratch/stdg/.conda/envs/mixtralflash/lib/python3.10/site-packages/transformers/utils/generic.py:342: UserWarning: torch.utils._pytree._register_pytree_node is deprecated. Please use torch.utils._pytree.register_pytree_node instead.\n",
      "  _torch_pytree._register_pytree_node(\n",
      "Special tokens have been added in the vocabulary, make sure the associated word embeddings are fine-tuned or trained.\n",
      "Unused kwargs: ['_load_in_4bit', '_load_in_8bit', 'quant_method']. These kwargs are not used in <class 'transformers.utils.quantization_config.BitsAndBytesConfig'>.\n",
      "Loading checkpoint shards: 100%|████████████████| 13/13 [00:15<00:00,  1.20s/it]\n",
      "/cfs/earth/scratch/stdg/.conda/envs/mixtralflash/lib/python3.10/site-packages/transformers/utils/generic.py:342: UserWarning: torch.utils._pytree._register_pytree_node is deprecated. Please use torch.utils._pytree.register_pytree_node instead.\n",
      "  _torch_pytree._register_pytree_node(\n",
      "----------using 4*GPUs----------\n",
      "\n",
      "## Instruktion: Es geht hier nur um die Klienten in der wirtschaftlichen Sozialhilfe. Bitte beantworten Sie die Frage nur in Bezug auf die wirtschaftliche Sozialhilfe.\n",
      "Müssen Zahlungen bei Todesfall in der wirtschaftlichen Sozialhilfe eingestellt werden vom Sozialamt?\n",
      "ANTWORT:\n",
      "Ja, gemäß dem Bedarfsdeckungsprinzip fallen Zahlungen der wirtschaftlichen Hilfen weg, da es keinerlei akute Notwendigkeiten mehr geben sollte. Allerdings können einige wenige Ausnahmefälle auftreten, darunter offene Arztrechnungen während des Zeitraumes der Unterstützung und andere vertragsbasierende finanzielle Verantwortlichkeiten.\n",
      "TITEL: PRA_Todesfall_WH.txt\n",
      "TEXT: Grundlage \n",
      "Die folgenden Ausführungen gelten aufgrund von § 28 und § 30 Sozialhilfegesetz (SHG)\n",
      "bei Personen, die im Zeitpunkt ihres Todes unterstützt wurden, sowie \n",
      "bei Personen, die im Zeitpunkt ihres Todes nicht mehr unterstützt wurden, die aber innerhalb der letzten 15 Jahre vor ihrem Tod unterstützt worden sind.\n",
      "\n",
      "Gemäss Zivilrecht sind nach dem Tod von mit wirtschaftlicher Hilfe (WH) unterstützten Personen für alle Belange die Erb*innen zuständig (Ausnahme vgl. Ziffer 2). Allfällige Handlungen nach dem Tod können nur als „Geschäftsführer ohne Auftrag“ (Art. 419 bis 424 OR) durchgeführt werden. Für verbeiständete Personen mit oder ohne WH gilt ausschliesslich die PRA Aufgaben nach Todesfall bei EKSM. \n",
      "\n",
      "Aufgaben der Fallführenden\n",
      "\n",
      "Meldepflicht an involvierte Stellen sowie an Erb*innen\n",
      "\n",
      "\n",
      "TITEL: HAW (jährliche) Überprüfung der Mittellosigkeit _ Beendigung der Unterstützung.txt\n",
      "TEXT: Auszahlung der WH wird per Ende des Monats nach Ausstellen des Entscheids einstweilen gestoppt. Reicht KL ein Begehren um Neubeurteilung ein, wird die WH umgehend nachbezahlt und bis zu einem rechtskräftigen Entscheid nicht eingestellt.\n",
      "Kontaktabbruch\n",
      "Meldet sich KL nach mehrmaliger Kontaktaufnahme nicht mehr und bricht somit den Kontakt ab, kann davon ausgegangen werden, dass sie*er auf weitere Unterstützung verzichtet. KL wird in einem Schreiben über den Abschluss des Falles informiert und darauf hingewiesen, dass sie*er einen Einstellungsentscheid verlangen kann. \n",
      "\n",
      "\n",
      "TITEL: HAW Anspruch WH bei ausl. KL.txt\n",
      "TEXT: Wenn kein WH-Anspruch mehr besteht, dürfen auch keine WH-Auszahlungen mehr an die KL erfolgen. Die Leistungen können per sofort eingestellt werden und die Klienten*innen sind schriftlich zu informieren, dass die Leistungen eingestellt wurden und eine beschwerdefähige Verfügung verlangt werden kann. Ziel ist es, keine Auszahlungen an die KL zu machen ohne Rechtsgrundlage. Allenfalls sind entsprechende KL an die ZAV zu vermitteln zur Klärung des Anspruchs auf Notfallhilfe. \n",
      "\n",
      "Das Migrationsamt kann die SOD mangels rechtlicher Grundlage nicht automatisch über einen rechtskräftigen Bewilligungsentzug informieren. Jedoch erfolgt in diesen Fällen im Fallführungssystem eine Meldung über die Änderung des Aufenthaltsstatus auf \"unbekannt\". Gestützt auf diese Meldung ist das Migrationsamt nach dem genauen Aufenthaltsstatus anzufragen (partner@ma.zh.ch / Mailvorlage) und zu prüfen, ob der WH-Anspruch weiterhin gegeben ist.\n",
      "\n",
      "\n",
      "TITEL: PRA_Umgang_mit_Ferien_und_Abwesenheiten.txt\n",
      "TEXT: Unterstützungsvoraussetzungen sind nachweislich nicht mehr gegeben\n",
      "Die Ausrichtung von Sozialhilfe ist per sofort zu stoppen. Hierbei handelt es sich nicht um eine Einstellung von Leistungen gemäss § 24 a. SHG, sondern um eine Verneinung der weiteren Anspruchsberechtigung (z.B. wegen fehlender Zuständigkeit der SOD). Aus diesem Grund ist kein formelles Einstellungsverfahren notwendig, sondern lediglich die Ablehnung weiterer Leistungen mittels anfechtbarer Verfügung anzuzeigen. \n",
      "\n",
      "Unterstützungsvoraussetzungen sind weiterhin gegeben\n",
      "Die Unterstützung ist weiterhin gemäss dem bestehenden Bedarf, ggf. unter Einbezug der unter Ziff. 3.2 erwähnten Kaufkraftanpassung und/oder der verfügten Kürzung, auszurichten. \n",
      "\n",
      "Zweifel am Fortbestand der Unterstützungsvoraussetzungen\n",
      "\n",
      "\n",
      "TITEL: PRA Entscheide.txt\n",
      "TEXT: Das SHG enthält dazu keine ausdrückliche Rechtsgrundlage. Gemäss ständiger Rechtsprechung leitet sich die Möglichkeit dazu aber aus dem in der Sozialhilfe geltenden Bedarfsdeckungsprinzip ab. Auch gemäss SKOS-Richtlinien (Kapitel F.3) ist es zulässig, die Leistungen einzustellen, wenn erhebliche Zweifel an der Bedürftigkeit der KL bestehen. Voraussetzung ist aber, dass die KL vorgängig ermahnt worden sind (schriftliche Auflage ohne Rechtsmittelbelehrung) und ihnen im Hinblick auf den geplanten Einstellungsentscheid das rechtliche Gehör gewährt worden ist.\n",
      "\n",
      "\n",
      "TITEL: PRA_Todesfall_WH.txt\n",
      "TEXT: Ausgaben, welche auch nach dem Tod noch von den SOD übernommen werden\n",
      "\n",
      "Bei Auszahlung der WH gilt das Bedarfsdeckungsprinzip. Ab Todesfall KL gibt es keine aktuelle Notlage mehr, weshalb grundsätzlich keine Leistungen übernommen werden, welche den Zeitraum nach dem Tod betreffen.\n",
      "\n",
      "Folgende Leistungen können ausnahmsweise nach dem Tod übernommen werden:\n",
      "\n",
      "Offene Arzt- und Krankenkassenrechnungen, die den Unterstützungszeitraum betreffen\n",
      "Leistungen, für die zu Lebzeiten KL seitens SOD formell oder stillschweigend eine KOGU erteilt worden ist, und sich die SOD vertraglich zur Übernahme (über den Tod hinaus) verpflichtet haben (z.B. Zahnbehandlungen; Garantieerklärungen Vermieterschaft; offene Rechnungen SEB, privater betreuter Wohneinrichtungen mit Rahmenverträgen gemäss Vereinbarungen Vertragscenter oder Heim ohne Rahmenverträge bis zum Ablauf der Kündigungs- oder Anullationsfrist gemäss geleisteter KOGU)\n",
      "\n",
      "Rückforderungen gegenüber dem Nachlass\n",
      "\n",
      "\n",
      "TITEL: KESB Plenarbeschluss Mai 2022 keine Rechnungen nach Tod.txt\n",
      "TEXT: Hintergrund:\n",
      "His ca. März 2021 haben Beistandspersonen üblicherweise alle Passiven nach dem Todes\n",
      "tag noch beglichen, teilweise auch als Folge einer Aufforderung durch die Abteilung Berichts\n",
      "prüfung. Mit der Genehmigung des Schlussberichts hat die Berichtsprüfung bis zum Eingang\n",
      "der letzten Monatskontoauszüge der Bank zugewartet, damit die verbleibende Nachlasshöhe\n",
      "exakt ermittelt werden konnte. Ergab sich nach Berücksichtigung der Rückforderungsansprü\n",
      "che seitens AZL, SOD und KESS kein Nachlassvermögen, wurde die Beistandsperson mit\n",
      "der Genehmigungsverfügung aufgefordert, das Verkehrskonto zu Gunsten AZL, SOD und/\n",
      "oder KESS zu saldieren. Kam es in solchen Fällen dann (z.B. durch Ausschlagung) doch zu\n",
      "einer (unerwarteten) konkursamtlichen Nachlassliquidation, haben einzelne Konkursämter\n",
      "\n",
      "\n",
      "\n",
      "TITEL: KESB Plenarbeschluss Mai 2022 keine Rechnungen nach Tod.txt\n",
      "TEXT: Stadt Zürich Stadt Zürich\n",
      "Kindes- und Kindes- und\n",
      "Erwachsenenschutzbehörde Erwachsenenschutzbehörde\n",
      "Präsidium\n",
      "Stauffacherstrasse 45\n",
      "Postfach 8225, 8036 Zürich\n",
      "Tel.0444121111\n",
      "kesbkontakt@zuerich.ch\n",
      "www.stadt-zuer.ch/kesb\n",
      "Ihre Kontaktperson:\n",
      "Saziale Dienste der Stadt Zürich\n",
      "Michael.Allgäuer\n",
      "Herrn Manfred Dachs Direktwahl Assistenz 044 412 20 01\n",
      "VZ Werd\n",
      "Werdstrasse 75\n",
      "8004 Zürich\n",
      "Zürich, 23. Mai 2022 /uw\n",
      "Praxisänderung im Zusammenhang mit der Beendigung einer Beistand\n",
      "schaft mit Vermögensverwaltung; Handhabung der offenen Rechnungen\n",
      "und der Vermögenswerte nach dem Tod einer betreuten Person\n",
      "Sehr geehrt[...]<|END_OF_TURN_TOKEN|>\n"
     ]
    }
   ],
   "source": [
    "!python commandRPlus_sample.py"
   ]
  }
 ],
 "metadata": {
  "kernelspec": {
   "display_name": "Python 3 (ipykernel)",
   "language": "python",
   "name": "python3"
  },
  "language_info": {
   "codemirror_mode": {
    "name": "ipython",
    "version": 3
   },
   "file_extension": ".py",
   "mimetype": "text/x-python",
   "name": "python",
   "nbconvert_exporter": "python",
   "pygments_lexer": "ipython3",
   "version": "3.10.9"
  }
 },
 "nbformat": 4,
 "nbformat_minor": 2
}
